{
 "cells": [
  {
   "cell_type": "code",
   "execution_count": 1,
   "metadata": {
    "collapsed": true
   },
   "outputs": [],
   "source": [
    "from agent import LLMConfig\n",
    "config = LLMConfig(\n",
    "    model='gpt-3.5-turbo',\n",
    "    model_endpoint='https://api.openai-proxy.org/v1',\n",
    "    open_ai_key='qnAcq9g0VKZt3I49s99JLWPRBXzmxyT0aWYJh0cqGJPeKzx9'\n",
    ")"
   ]
  },
  {
   "cell_type": "code",
   "execution_count": 2,
   "outputs": [
    {
     "ename": "ImportError",
     "evalue": "cannot import name 'get_system_text' from 'utils' (/Users/h0d1n/ChainStream/MemoryAgent/utils.py)",
     "output_type": "error",
     "traceback": [
      "\u001B[0;31m---------------------------------------------------------------------------\u001B[0m",
      "\u001B[0;31mImportError\u001B[0m                               Traceback (most recent call last)",
      "Cell \u001B[0;32mIn[2], line 3\u001B[0m\n\u001B[1;32m      1\u001B[0m \u001B[38;5;28;01mfrom\u001B[39;00m \u001B[38;5;21;01magent\u001B[39;00m \u001B[38;5;28;01mimport\u001B[39;00m Preset\n\u001B[1;32m      2\u001B[0m \u001B[38;5;28;01mfrom\u001B[39;00m \u001B[38;5;21;01mfunctions\u001B[39;00m \u001B[38;5;28;01mimport\u001B[39;00m FUNCTIONS_CHAINING\n\u001B[0;32m----> 3\u001B[0m \u001B[38;5;28;01mfrom\u001B[39;00m \u001B[38;5;21;01mutils\u001B[39;00m \u001B[38;5;28;01mimport\u001B[39;00m get_system_text\n\u001B[1;32m      4\u001B[0m preset\u001B[38;5;241m=\u001B[39mPreset(\n\u001B[1;32m      5\u001B[0m     name\u001B[38;5;241m=\u001B[39m\u001B[38;5;124m'\u001B[39m\u001B[38;5;124mMemoryAgent\u001B[39m\u001B[38;5;124m'\u001B[39m,\n\u001B[1;32m      6\u001B[0m     description\u001B[38;5;241m=\u001B[39m\u001B[38;5;124m'\u001B[39m\u001B[38;5;124mThe System Preset for MemoryAgent\u001B[39m\u001B[38;5;124m'\u001B[39m,\n\u001B[1;32m      7\u001B[0m     system\u001B[38;5;241m=\u001B[39mget_system_text(\u001B[38;5;124m'\u001B[39m\u001B[38;5;124mMemoryAgent/system_base.txt\u001B[39m\u001B[38;5;124m'\u001B[39m),\n\u001B[1;32m      8\u001B[0m     functions_schema\u001B[38;5;241m=\u001B[39m[func_dict \u001B[38;5;28;01mfor\u001B[39;00m func_name , func_dict \u001B[38;5;129;01min\u001B[39;00m FUNCTIONS_CHAINING\u001B[38;5;241m.\u001B[39mitems()]\n\u001B[1;32m      9\u001B[0m )\n",
      "\u001B[0;31mImportError\u001B[0m: cannot import name 'get_system_text' from 'utils' (/Users/h0d1n/ChainStream/MemoryAgent/utils.py)"
     ]
    }
   ],
   "source": [
    "from agent import Preset\n",
    "from functions import FUNCTIONS_CHAINING\n",
    "from utils import get_system_text\n",
    "preset=Preset(\n",
    "    name='MemoryAgent',\n",
    "    description='The System Preset for MemoryAgent',\n",
    "    system=get_system_text('MemoryAgent/system_base.txt'),\n",
    "    functions_schema=[func_dict for func_name , func_dict in FUNCTIONS_CHAINING.items()]\n",
    ")"
   ],
   "metadata": {
    "collapsed": false
   }
  },
  {
   "cell_type": "code",
   "execution_count": null,
   "outputs": [],
   "source": [],
   "metadata": {
    "collapsed": false
   }
  }
 ],
 "metadata": {
  "kernelspec": {
   "display_name": "Python 3",
   "language": "python",
   "name": "python3"
  },
  "language_info": {
   "codemirror_mode": {
    "name": "ipython",
    "version": 2
   },
   "file_extension": ".py",
   "mimetype": "text/x-python",
   "name": "python",
   "nbconvert_exporter": "python",
   "pygments_lexer": "ipython2",
   "version": "2.7.6"
  }
 },
 "nbformat": 4,
 "nbformat_minor": 0
}
