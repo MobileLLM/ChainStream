{
 "cells": [
  {
   "cell_type": "code",
   "execution_count": 1,
   "metadata": {
    "collapsed": true
   },
   "outputs": [],
   "source": [
    "from agent import LLMConfig\n",
    "config = LLMConfig(\n",
    "    model='gpt-3.5-turbo',\n",
    "    model_endpoint='https://api.openai-proxy.org/v1',\n",
    "    open_ai_key='qnAcq9g0VKZt3I49s99JLWPRBXzmxyT0aWYJh0cqGJPeKzx9'\n",
    ")"
   ]
  },
  {
   "cell_type": "code",
   "execution_count": 2,
   "outputs": [],
   "source": [
    "from agent import Preset\n",
    "from functions import FUNCTIONS_CHAINING\n",
    "from utils import get_system_text\n",
    "preset=Preset(\n",
    "    name='MemoryAgent',\n",
    "    description='The System Preset for MemoryAgent',\n",
    "    system=get_system_text('system_base.txt'),\n",
    "    functions_schema=[func_dict for func_name , func_dict in FUNCTIONS_CHAINING.items()]\n",
    ")"
   ],
   "metadata": {
    "collapsed": false
   }
  },
  {
   "cell_type": "code",
   "execution_count": 3,
   "outputs": [
    {
     "name": "stdout",
     "output_type": "stream",
     "text": [
      "Agent initialized, self.messages_total=1\n"
     ]
    }
   ],
   "source": [
    "from agent import Agent\n",
    "\n",
    "memagent=Agent(preset=preset,llm_config=config)"
   ],
   "metadata": {
    "collapsed": false
   }
  },
  {
   "cell_type": "code",
   "execution_count": 6,
   "outputs": [],
   "source": [],
   "metadata": {
    "collapsed": false
   }
  }
 ],
 "metadata": {
  "kernelspec": {
   "display_name": "Python 3",
   "language": "python",
   "name": "python3"
  },
  "language_info": {
   "codemirror_mode": {
    "name": "ipython",
    "version": 2
   },
   "file_extension": ".py",
   "mimetype": "text/x-python",
   "name": "python",
   "nbconvert_exporter": "python",
   "pygments_lexer": "ipython2",
   "version": "2.7.6"
  }
 },
 "nbformat": 4,
 "nbformat_minor": 0
}
