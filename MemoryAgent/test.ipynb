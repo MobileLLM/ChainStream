{
 "cells": [
  {
   "cell_type": "code",
   "execution_count": 1,
   "metadata": {
    "collapsed": true
   },
   "outputs": [],
   "source": [
    "from agent import LLMConfig\n",
    "config = LLMConfig(\n",
    "    model='gpt-3.5-turbo',\n",
    "    model_endpoint='https://api.openai-proxy.org/v1',\n",
    "    open_ai_key='sk-qnAcq9g0VKZt3I49s99JLWPRBXzmxyT0aWYJh0cqGJPeKzx9'\n",
    ")"
   ]
  },
  {
   "cell_type": "code",
   "execution_count": 2,
   "outputs": [],
   "source": [
    "from agent import Preset\n",
    "from functions import FUNCTIONS_CHAINING\n",
    "from utils import get_system_text\n",
    "preset=Preset(\n",
    "    name='MemoryAgent',\n",
    "    description='The System Preset for MemoryAgent',\n",
    "    system=get_system_text('system_base.txt'),\n",
    "    functions_schema=[func_dict for func_name , func_dict in FUNCTIONS_CHAINING.items()]\n",
    ")"
   ],
   "metadata": {
    "collapsed": false
   }
  },
  {
   "cell_type": "code",
   "execution_count": 3,
   "outputs": [
    {
     "name": "stdout",
     "output_type": "stream",
     "text": [
      "Agent initialized, self.messages_total=1\n"
     ]
    }
   ],
   "source": [
    "from agent import Agent\n",
    "\n",
    "memagent=Agent(preset=preset,llm_config=config)"
   ],
   "metadata": {
    "collapsed": false
   }
  },
  {
   "cell_type": "code",
   "execution_count": 4,
   "outputs": [
    {
     "name": "stdout",
     "output_type": "stream",
     "text": [
      "This is the first message. Running extra verifier on AI response.\n",
      "Sending request to https://api.openai-proxy.org/v1\n",
      "response = ChatCompletion(id='chatcmpl-2KskYRLrRq4vxFANPJW8Vhym1f3wT', choices=[Choice(finish_reason='stop', index=0, logprobs=None, message=ChatCompletionMessage(content='欢迎登录记忆树管理员系统。有什么可以帮助您的吗？如果需要存储或提取记忆信息，请告诉我。', role='assistant', function_call=None, tool_calls=None))], created=1711451345, model='gpt-3.5-turbo-0125', object='chat.completion', system_fingerprint='fp_3bc1b5746c', usage=CompletionUsage(completion_tokens=46, prompt_tokens=1200, total_tokens=1246))\n",
      "<class 'openai.types.chat.chat_completion.ChatCompletion'>\n"
     ]
    }
   ],
   "source": [
    "memagent.step(user_message='你好')"
   ],
   "metadata": {
    "collapsed": false
   }
  },
  {
   "cell_type": "code",
   "execution_count": 5,
   "outputs": [
    {
     "name": "stdout",
     "output_type": "stream",
     "text": [
      "Sending request to https://api.openai-proxy.org/v1\n",
      "response = ChatCompletion(id='chatcmpl-x3uRrubHr2ROwb24iUYlVZQHYDIw5', choices=[Choice(finish_reason='tool_calls', index=0, logprobs=None, message=ChatCompletionMessage(content=None, role='assistant', function_call=None, tool_calls=[ChatCompletionMessageToolCall(id='call_xV5p7vG8d4VwiNT3wyu1xxsX', function=Function(arguments='{\"node_tag\":\"\"}', name='find_children'), type='function')]))], created=1711451348, model='gpt-3.5-turbo-0125', object='chat.completion', system_fingerprint='fp_3bc1b5746c', usage=CompletionUsage(completion_tokens=14, prompt_tokens=1263, total_tokens=1277))\n",
      "<class 'openai.types.chat.chat_completion.ChatCompletion'>\n",
      "Function call message: <message.Message object at 0x107f1e760>\n"
     ]
    }
   ],
   "source": [
    "memagent.step(user_message=\"储存信息：小明的生日\")"
   ],
   "metadata": {
    "collapsed": false
   }
  },
  {
   "cell_type": "code",
   "execution_count": 6,
   "outputs": [
    {
     "name": "stdout",
     "output_type": "stream",
     "text": [
      "You are attempting to run ChatCompletion without user as the last message in the queue\n",
      "Sending request to https://api.openai-proxy.org/v1\n",
      "response = ChatCompletion(id='chatcmpl-hCwZlgDs8PW78hcn6ZdVB9VPmcDfU', choices=[Choice(finish_reason='stop', index=0, logprobs=None, message=ChatCompletionMessage(content='我将为您存储信息：小明的生日。请继续提供其他信息，或者告诉我您需要做什么。', role='assistant', function_call=None, tool_calls=None))], created=1711451360, model='gpt-3.5-turbo-0125', object='chat.completion', system_fingerprint='fp_3bc1b5746c', usage=CompletionUsage(completion_tokens=40, prompt_tokens=1319, total_tokens=1359))\n",
      "<class 'openai.types.chat.chat_completion.ChatCompletion'>\n"
     ]
    }
   ],
   "source": [
    "memagent.step(user_message=None)"
   ],
   "metadata": {
    "collapsed": false
   }
  },
  {
   "cell_type": "code",
   "execution_count": 7,
   "outputs": [
    {
     "name": "stdout",
     "output_type": "stream",
     "text": [
      "You are attempting to run ChatCompletion without user as the last message in the queue\n",
      "Sending request to https://api.openai-proxy.org/v1\n",
      "response = ChatCompletion(id='chatcmpl-tBrFMTqd641YKqKyqXcMQ6iuX3oKG', choices=[Choice(finish_reason='tool_calls', index=0, logprobs=None, message=ChatCompletionMessage(content=None, role='assistant', function_call=None, tool_calls=[ChatCompletionMessageToolCall(id='call_b4kQHAfsDWW61rjjz24hoMoY', function=Function(arguments='{\"message\":\"已成功将\\\\\"小明的生日\\\\\"存储在记忆树中。\"}', name='send_message'), type='function')]))], created=1711444823, model='gpt-3.5-turbo-0125', object='chat.completion', system_fingerprint='fp_3bc1b5746c', usage=CompletionUsage(completion_tokens=34, prompt_tokens=1428, total_tokens=1462))\n",
      "<class 'openai.types.chat.chat_completion.ChatCompletion'>\n",
      "Function call message: <message.Message object at 0x109bd09a0>\n"
     ]
    }
   ],
   "source": [
    "memagent.step(user_message=None)"
   ],
   "metadata": {
    "collapsed": false
   }
  },
  {
   "cell_type": "code",
   "execution_count": 7,
   "outputs": [
    {
     "name": "stdout",
     "output_type": "stream",
     "text": [
      "Sending request to https://api.openai-proxy.org/v1\n",
      "response = ChatCompletion(id='chatcmpl-Ijnx7yBBsDqbv5ot56pP3wDVtoTMD', choices=[Choice(finish_reason='tool_calls', index=0, logprobs=None, message=ChatCompletionMessage(content=None, role='assistant', function_call=None, tool_calls=[ChatCompletionMessageToolCall(id='call_10EKGrsVuH98VEvaLBabRY4w', function=Function(arguments='{\"father_tag\":\"小明的生日\",\"node_tag\":\"小红的生日\"}', name='add_children'), type='function')]))], created=1711451379, model='gpt-3.5-turbo-0125', object='chat.completion', system_fingerprint='fp_3bc1b5746c', usage=CompletionUsage(completion_tokens=29, prompt_tokens=1377, total_tokens=1406))\n",
      "<class 'openai.types.chat.chat_completion.ChatCompletion'>\n",
      "Function call message: <message.Message object at 0x107f249d0>\n"
     ]
    }
   ],
   "source": [
    "memagent.step(user_message=\"储存信息：小红的生日\")"
   ],
   "metadata": {
    "collapsed": false
   }
  },
  {
   "cell_type": "code",
   "execution_count": 9,
   "outputs": [
    {
     "name": "stdout",
     "output_type": "stream",
     "text": [
      "You are attempting to run ChatCompletion without user as the last message in the queue\n",
      "Sending request to https://api.openai-proxy.org/v1\n",
      "response = ChatCompletion(id='chatcmpl-dzP0SLkPhHMalv5wWbSGUBhx10K3l', choices=[Choice(finish_reason='tool_calls', index=0, logprobs=None, message=ChatCompletionMessage(content=None, role='assistant', function_call=None, tool_calls=[ChatCompletionMessageToolCall(id='call_CJERmCXFfUc7VWwxNYWzV4ES', function=Function(arguments='{\"father_tag\":\"\",\"node_tag\":\"小红的生日\"}', name='add_children'), type='function')]))], created=1711444857, model='gpt-3.5-turbo-0125', object='chat.completion', system_fingerprint='fp_3bc1b5746c', usage=CompletionUsage(completion_tokens=23, prompt_tokens=1611, total_tokens=1634))\n",
      "<class 'openai.types.chat.chat_completion.ChatCompletion'>\n",
      "Function call message: <message.Message object at 0x109d217c0>\n"
     ]
    }
   ],
   "source": [
    "memagent.step(user_message=None)"
   ],
   "metadata": {
    "collapsed": false
   }
  },
  {
   "cell_type": "code",
   "execution_count": 10,
   "outputs": [
    {
     "name": "stdout",
     "output_type": "stream",
     "text": [
      "You are attempting to run ChatCompletion without user as the last message in the queue\n",
      "Sending request to https://api.openai-proxy.org/v1\n",
      "response = ChatCompletion(id='chatcmpl-myMD4e6cdwEjiXKaVOp2KQfQ19NEt', choices=[Choice(finish_reason='tool_calls', index=0, logprobs=None, message=ChatCompletionMessage(content=None, role='assistant', function_call=None, tool_calls=[ChatCompletionMessageToolCall(id='call_Db3EbfNibcOz9VK7rtygmhVy', function=Function(arguments='{\"message\":\"已将\\\\\"小红的生日\\\\\"成功存储在记忆树中。\"}', name='send_message'), type='function')]))], created=1711444885, model='gpt-3.5-turbo-0125', object='chat.completion', system_fingerprint='fp_3bc1b5746c', usage=CompletionUsage(completion_tokens=35, prompt_tokens=1676, total_tokens=1711))\n",
      "<class 'openai.types.chat.chat_completion.ChatCompletion'>\n",
      "Function call message: <message.Message object at 0x109d302b0>\n"
     ]
    }
   ],
   "source": [
    "memagent.step(user_message=None)"
   ],
   "metadata": {
    "collapsed": false
   }
  },
  {
   "cell_type": "code",
   "execution_count": 11,
   "outputs": [
    {
     "name": "stdout",
     "output_type": "stream",
     "text": [
      "Sending request to https://api.openai-proxy.org/v1\n",
      "response = ChatCompletion(id='chatcmpl-1ScMLR5cLT2kfGUexecf2srmFF5VW', choices=[Choice(finish_reason='tool_calls', index=0, logprobs=None, message=ChatCompletionMessage(content='现在将“今天的晚饭”存储在记忆树中。让我来处理。', role='assistant', function_call=None, tool_calls=[ChatCompletionMessageToolCall(id='call_3hIGJuXDL5wSYmtlkIt8KH5S', function=Function(arguments='{\"node_tag\":\"\"}', name='find_children'), type='function')]))], created=1711444897, model='gpt-3.5-turbo-0125', object='chat.completion', system_fingerprint='fp_3bc1b5746c', usage=CompletionUsage(completion_tokens=45, prompt_tokens=1770, total_tokens=1815))\n",
      "<class 'openai.types.chat.chat_completion.ChatCompletion'>\n",
      "Function call message: <message.Message object at 0x109d3a310>\n"
     ]
    }
   ],
   "source": [
    "memagent.step(user_message=\"储存信息：今天的晚饭\")"
   ],
   "metadata": {
    "collapsed": false
   }
  },
  {
   "cell_type": "code",
   "execution_count": 12,
   "outputs": [
    {
     "name": "stdout",
     "output_type": "stream",
     "text": [
      "You are attempting to run ChatCompletion without user as the last message in the queue\n",
      "Sending request to https://api.openai-proxy.org/v1\n",
      "response = ChatCompletion(id='chatcmpl-2G4cbYp2aT2auj0PNUjxOJkUiwaHj', choices=[Choice(finish_reason='tool_calls', index=0, logprobs=None, message=ChatCompletionMessage(content=None, role='assistant', function_call=None, tool_calls=[ChatCompletionMessageToolCall(id='call_hFZzuahnX7GaynUUn6GIDw5Q', function=Function(arguments='{\"father_tag\":\"\",\"node_tag\":\"今天的晚饭\"}', name='add_children'), type='function')]))], created=1711444928, model='gpt-3.5-turbo-0125', object='chat.completion', system_fingerprint='fp_3bc1b5746c', usage=CompletionUsage(completion_tokens=25, prompt_tokens=1873, total_tokens=1898))\n",
      "<class 'openai.types.chat.chat_completion.ChatCompletion'>\n",
      "Function call message: <message.Message object at 0x109d4e130>\n"
     ]
    }
   ],
   "source": [
    "memagent.step(user_message=None)"
   ],
   "metadata": {
    "collapsed": false
   }
  },
  {
   "cell_type": "code",
   "execution_count": 13,
   "outputs": [
    {
     "name": "stdout",
     "output_type": "stream",
     "text": [
      "You are attempting to run ChatCompletion without user as the last message in the queue\n",
      "Sending request to https://api.openai-proxy.org/v1\n",
      "response = ChatCompletion(id='chatcmpl-ZtExFc1MGCRBVIs6lo2uWc5n0wWTJ', choices=[Choice(finish_reason='tool_calls', index=0, logprobs=None, message=ChatCompletionMessage(content=None, role='assistant', function_call=None, tool_calls=[ChatCompletionMessageToolCall(id='call_SJwvMb0XuyLHXzNLIussuCcd', function=Function(arguments='{\"message\":\"已将\\\\\"今天的晚饭\\\\\"成功存储在记忆树中。\"}', name='send_message'), type='function')]))], created=1711444949, model='gpt-3.5-turbo-0125', object='chat.completion', system_fingerprint='fp_3bc1b5746c', usage=CompletionUsage(completion_tokens=37, prompt_tokens=1940, total_tokens=1977))\n",
      "<class 'openai.types.chat.chat_completion.ChatCompletion'>\n",
      "Function call message: <message.Message object at 0x109d51b50>\n"
     ]
    }
   ],
   "source": [
    "memagent.step(user_message=None)"
   ],
   "metadata": {
    "collapsed": false
   }
  },
  {
   "cell_type": "code",
   "execution_count": 14,
   "outputs": [
    {
     "name": "stdout",
     "output_type": "stream",
     "text": [
      "Sending request to https://api.openai-proxy.org/v1\n",
      "response = ChatCompletion(id='chatcmpl-pjhspMcW71QSvKl3FJs6AzMCv2PxU', choices=[Choice(finish_reason='tool_calls', index=0, logprobs=None, message=ChatCompletionMessage(content='让我查找并提取“小红的个人信息”在记忆树中的数据。让我来处理。', role='assistant', function_call=None, tool_calls=[ChatCompletionMessageToolCall(id='call_gRsqZWWpqhre1qAaeLUM519L', function=Function(arguments='{\"node_tag\":\"小红的个人信息\"}', name='find_children'), type='function')]))], created=1711444974, model='gpt-3.5-turbo-0125', object='chat.completion', system_fingerprint='fp_3bc1b5746c', usage=CompletionUsage(completion_tokens=55, prompt_tokens=2034, total_tokens=2089))\n",
      "<class 'openai.types.chat.chat_completion.ChatCompletion'>\n",
      "Function call message: <message.Message object at 0x1559c5760>\n"
     ]
    }
   ],
   "source": [
    "memagent.step(user_message='查找数据：小红的个人信息')"
   ],
   "metadata": {
    "collapsed": false
   }
  },
  {
   "cell_type": "code",
   "execution_count": 15,
   "outputs": [
    {
     "name": "stdout",
     "output_type": "stream",
     "text": [
      "You are attempting to run ChatCompletion without user as the last message in the queue\n",
      "Sending request to https://api.openai-proxy.org/v1\n",
      "response = ChatCompletion(id='chatcmpl-JYzJaaKd7AT4YRMOcoqCk1c1j4dtD', choices=[Choice(finish_reason='tool_calls', index=0, logprobs=None, message=ChatCompletionMessage(content=None, role='assistant', function_call=None, tool_calls=[ChatCompletionMessageToolCall(id='call_ckm2MKzvkg2FwWR8I6WuY0wU', function=Function(arguments='{\"node_tag\":\"小红\"}', name='find_children'), type='function')]))], created=1711445005, model='gpt-3.5-turbo-0125', object='chat.completion', system_fingerprint='fp_3bc1b5746c', usage=CompletionUsage(completion_tokens=17, prompt_tokens=2134, total_tokens=2151))\n",
      "<class 'openai.types.chat.chat_completion.ChatCompletion'>\n",
      "Function call message: <message.Message object at 0x1559c0ca0>\n"
     ]
    }
   ],
   "source": [
    "memagent.step(user_message=None)"
   ],
   "metadata": {
    "collapsed": false
   }
  },
  {
   "cell_type": "code",
   "execution_count": 16,
   "outputs": [
    {
     "name": "stdout",
     "output_type": "stream",
     "text": [
      "You are attempting to run ChatCompletion without user as the last message in the queue\n",
      "Sending request to https://api.openai-proxy.org/v1\n",
      "response = ChatCompletion(id='chatcmpl-M4DFEVdKKChq3cGS2AEdqKOZMNb88', choices=[Choice(finish_reason='tool_calls', index=0, logprobs=None, message=ChatCompletionMessage(content=None, role='assistant', function_call=None, tool_calls=[ChatCompletionMessageToolCall(id='call_YZWBJ7B5Hq8L22VR1a10PwEU', function=Function(arguments='{\"node_tag\":\"个人信息\"}', name='find_children'), type='function')]))], created=1711445023, model='gpt-3.5-turbo-0125', object='chat.completion', system_fingerprint='fp_3bc1b5746c', usage=CompletionUsage(completion_tokens=17, prompt_tokens=2193, total_tokens=2210))\n",
      "<class 'openai.types.chat.chat_completion.ChatCompletion'>\n",
      "Function call message: <message.Message object at 0x1559fd0d0>\n"
     ]
    }
   ],
   "source": [
    "memagent.step(user_message=None)"
   ],
   "metadata": {
    "collapsed": false
   }
  },
  {
   "cell_type": "code",
   "execution_count": 17,
   "outputs": [
    {
     "name": "stdout",
     "output_type": "stream",
     "text": [
      "You are attempting to run ChatCompletion without user as the last message in the queue\n",
      "Sending request to https://api.openai-proxy.org/v1\n",
      "response = ChatCompletion(id='chatcmpl-yOOe5cJivodDRdWK95bEaTTg85rhO', choices=[Choice(finish_reason='tool_calls', index=0, logprobs=None, message=ChatCompletionMessage(content=None, role='assistant', function_call=None, tool_calls=[ChatCompletionMessageToolCall(id='call_Ge0rZN479GbGOOHVWEf4OmCn', function=Function(arguments='{\"node_tag\":\"小红\"}', name='find_children'), type='function')]))], created=1711445033, model='gpt-3.5-turbo-0125', object='chat.completion', system_fingerprint='fp_3bc1b5746c', usage=CompletionUsage(completion_tokens=17, prompt_tokens=2252, total_tokens=2269))\n",
      "<class 'openai.types.chat.chat_completion.ChatCompletion'>\n",
      "Function call message: <message.Message object at 0x155b0f310>\n"
     ]
    }
   ],
   "source": [
    "memagent.step(user_message=None)"
   ],
   "metadata": {
    "collapsed": false
   }
  },
  {
   "cell_type": "code",
   "execution_count": 18,
   "outputs": [
    {
     "name": "stdout",
     "output_type": "stream",
     "text": [
      "You are attempting to run ChatCompletion without user as the last message in the queue\n",
      "Sending request to https://api.openai-proxy.org/v1\n",
      "response = ChatCompletion(id='chatcmpl-qf5TpjlaFje4d0eW5BArey4PdPcUq', choices=[Choice(finish_reason='tool_calls', index=0, logprobs=None, message=ChatCompletionMessage(content=None, role='assistant', function_call=None, tool_calls=[ChatCompletionMessageToolCall(id='call_1pNj4To7S86gskbMXxPjRMZH', function=Function(arguments='{\"message\":\"未找到与\\\\\"小红的个人信息\\\\\"相关的数据。\"}', name='send_message'), type='function')]))], created=1711445041, model='gpt-3.5-turbo-0125', object='chat.completion', system_fingerprint='fp_3bc1b5746c', usage=CompletionUsage(completion_tokens=30, prompt_tokens=2311, total_tokens=2341))\n",
      "<class 'openai.types.chat.chat_completion.ChatCompletion'>\n",
      "Function call message: <message.Message object at 0x1559f6af0>\n"
     ]
    }
   ],
   "source": [
    "memagent.step(user_message=None)"
   ],
   "metadata": {
    "collapsed": false
   }
  },
  {
   "cell_type": "code",
   "execution_count": null,
   "outputs": [],
   "source": [],
   "metadata": {
    "collapsed": false
   }
  }
 ],
 "metadata": {
  "kernelspec": {
   "display_name": "Python 3",
   "language": "python",
   "name": "python3"
  },
  "language_info": {
   "codemirror_mode": {
    "name": "ipython",
    "version": 2
   },
   "file_extension": ".py",
   "mimetype": "text/x-python",
   "name": "python",
   "nbconvert_exporter": "python",
   "pygments_lexer": "ipython2",
   "version": "2.7.6"
  }
 },
 "nbformat": 4,
 "nbformat_minor": 0
}
